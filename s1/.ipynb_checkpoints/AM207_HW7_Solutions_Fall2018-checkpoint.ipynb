{
 "cells": [
  {
   "cell_type": "markdown",
   "metadata": {},
   "source": [
    "# Homework 7\n",
    "\n",
    "**Harvard University**<br>\n",
    "**Fall 2018**<br>\n",
    "**Instructors: Rahul Dave**<br>\n",
    "**Due Date: ** Saturday, October 27th, 2018 at 11:59pm\n",
    "\n",
    "**Instructions:**\n",
    "\n",
    "- Upload your final answers in the form of a Jupyter notebook containing all work to Canvas.\n",
    "\n",
    "- Structure your notebook and your work to maximize readability."
   ]
  },
  {
   "cell_type": "markdown",
   "metadata": {},
   "source": [
    "### Collaborators\n",
    "\n",
    "** Place the name of everyone who's submitting this assignment here**"
   ]
  },
  {
   "cell_type": "markdown",
   "metadata": {},
   "source": [
    "<div class=\"answer-separator\">\n",
    "------------------------\n",
    "</div>"
   ]
  },
  {
   "cell_type": "code",
   "execution_count": 1,
   "metadata": {
    "collapsed": true
   },
   "outputs": [],
   "source": [
    "import numpy as np\n",
    "import scipy.stats\n",
    "import scipy.special\n",
    "\n",
    "import matplotlib\n",
    "import matplotlib.pyplot as plt\n",
    "import matplotlib.mlab as mlab\n",
    "from matplotlib import cm\n",
    "import pandas as pd\n",
    "%matplotlib inline\n",
    "\n",
    "## Standard boilerplate to import torch and torch related modules\n",
    "import torch\n",
    "\n",
    "import torchvision.datasets as datasets\n",
    "import torchvision.transforms as transforms\n",
    "\n",
    "from torch.autograd import Variable\n",
    "import torch.nn\n",
    "\n",
    "import torch.nn.functional as F\n",
    "from torch.utils.data.sampler import SubsetRandomSampler"
   ]
  },
  {
   "cell_type": "markdown",
   "metadata": {},
   "source": [
    "## Question 1: Mon pays c'est l'MNIST. Mon cœur est brise de Logistic Regression."
   ]
  },
  {
   "cell_type": "markdown",
   "metadata": {},
   "source": [
    "The [*MNIST* dataset](https://en.wikipedia.org/wiki/MNIST_database) is one of the classic datasets in Machine Learning and is often one of the first datasets against which new classification algorithms test themselves.  It consists of 70,000 images of handwritten digits, each of which is 28x28 pixels. You will be using PyTorch to build a handwritten digit classifier that you will train, validate, and test with MNIST. \n",
    "\n",
    "Your classifier MUST implement a multinomial logistic regression model (using softmax). It will take as input an array of pixel values in an image and output the images most likely digit label (i.e. 0-9). You should think of the pixel values as features of the input vector.  \n",
    "\n",
    "Using the softmax formulation, your PyTorch model should computes the cost function using an L2 regularization approach (see `optim.SGD` in PyTorch or write your own cost function) and minimize the resulting cost function using mini-batch stochastic gradient descent.  We provided  extensive template code in lab.\n",
    "\n",
    "Construct and train your classifier using a batch size of 256 examples, a learning rate $\\eta$=0.1, and a regularization factor $\\lambda$=0.01.\n",
    "\n",
    "1.1. Plot 10 sample images from the MNIST dataset (to develop intuition for the feature space).\n",
    "\n",
    "1.2. Currently the MNIST dataset in Torchvision allows a Train/Test split.  Use PyTorch dataloader functionality to create a Train/Validate/Test split  of 50K/10K/10K samples.\n",
    "\n",
    "**Hint:** Lab described a way to do it keeping within the MNIST `DataLoader` workflow: the key is to pass a `SubsetRandomSampler` to `DataLoader`\n",
    "\n",
    "1.3. Construct a softmax formulation in PyTorch of multinomial logistic regression with Cross Entropy Loss.\n",
    "\n",
    "1.4. Train your model using SGD to minimize the cost function. Use as many epochs as you need to achive convergence.\n",
    "\n",
    "1.5. Plot the cross-entropy loss on the training set as a function of iteration.\n",
    "\n",
    "1.6. Using classification accuracy, evaluate how well your model is performing on the validation set at the end of each epoch. Plot this validation accuracy as the model trains.\n",
    "\n",
    "1.6. Duplicate this plot for some other values of the regularization parameter $\\lambda$. When should you stop the training for each of the different values of λ? Give an approximate answer supported by using the plots.\n",
    "\n",
    "1.7. Select what you consider the best regularization parameter and predict the labels of the test set. Compare your predictions with the given labels. What classification accuracy do you obtain on the training and test sets?\n",
    "\n",
    "1.8. What classes are most likely to be misclassified? Plot some misclassified training and test set images.\n",
    "\n",
    "**Gratuitous Titular Reference**:  The recently departed French rockstar Johnny Hallyday just posthumously released what looks to be his biggest album ever \"Mon pays c'est l'amour\".  The album sold 300,000 copies on its first day of release."
   ]
  },
  {
   "cell_type": "markdown",
   "metadata": {},
   "source": [
    "<div class=\"answer-separator\">\n",
    "------------------------\n",
    "</div>"
   ]
  },
  {
   "cell_type": "markdown",
   "metadata": {},
   "source": [
    "#### Answers"
   ]
  },
  {
   "cell_type": "code",
   "execution_count": 3,
   "metadata": {},
   "outputs": [],
   "source": [
    "# Regression Parent Class\n",
    "class Regression(object):\n",
    "    \n",
    "    def __init__(self):\n",
    "        self.params = dict()\n",
    "    \n",
    "    def get_params(self, k):\n",
    "        return self.params.get(k, None)\n",
    "    \n",
    "    def set_params(self, **kwargs):\n",
    "        for k,v in kwargs.items():\n",
    "            self.params[k] = v\n",
    "        \n",
    "                    \n",
    "    def fit(self, X, y):\n",
    "        raise NotImplementedError()\n",
    "        \n",
    "    def predict(self, X):\n",
    "        raise NotImplementedError()\n",
    "        \n",
    "    def score(self, X, y):\n",
    "        raise NotImplementedError()\n",
    "        "
   ]
  },
  {
   "cell_type": "code",
   "execution_count": 4,
   "metadata": {},
   "outputs": [],
   "source": [
    "## Our PyTorch implementation of Logistic Regression\n",
    "class LRPyTorch(nn.Module):\n",
    "\n",
    "    ## the constructor is where we'll define all our layers (input, hidden, and output)\n",
    "    def __init__(self):\n",
    "\n",
    "        ## this line creates an instance of our parent (or base) class which in this case\n",
    "        ## is nn.Module.\n",
    "        super().__init__()\n",
    "\n",
    "        ## in the lines below we'll create instance variables and assign them torch.nn Models\n",
    "        ## in order to create our layers.  You should ordinarily have one variable definition for each layer\n",
    "        ## in your neural network except for the output layer.  The output layer is defined by the number of\n",
    "        ## outputs in your last layer. Since we're dealing with simple Artificial Neural Networks, we should\n",
    "        ## predominantly be using nn.Linear.  \n",
    "        self.l1 = nn.Linear(784, 10)\n",
    "\n",
    " \n",
    "    # forwards takes as a parameter x -- the batch of inputs that we want to feed into our neural network model\n",
    "    # and returns the output of the model ... i.e. the results of the output layer of the model after forward\n",
    "    # propagation through our model. practically this means you should call each layer you defined in the\n",
    "    # constructor in sequence plus any activation functions on each layer.\n",
    "    def forward(self, x):\n",
    "     \n",
    "        # call all our layers on our input (in this case we only need one)\n",
    "        x = self.l1(x)\n",
    "\n",
    "        # Since we're using Cross Entropy Loss\n",
    "        # we can return our output directly\n",
    "        return x\n"
   ]
  },
  {
   "cell_type": "code",
   "execution_count": 13,
   "metadata": {},
   "outputs": [],
   "source": [
    "\n",
    "class Artificial_Neural_Network(Regression):\n",
    "    \n",
    "    def __init__(self, input_model, reg_rate = 0.01, learning_rate=0.1, batch_size=256, epochs=30, hidden=None):\n",
    "        \n",
    "        super().__init__()\n",
    "        \n",
    "        \n",
    "        ## Load MNIST Data\n",
    "        train_dataset, test_dataset, train_loader, test_loader, validation_loader, train_idx, validation_idx = self.load_data(batch_size=batch_size)\n",
    "        \n",
    "        ## Add Datasets and Data Loaders to our params\n",
    "        self.set_params(train_dataset=train_dataset, \n",
    "                        train_loader=train_loader,\n",
    "                        test_dataset=test_dataset,\n",
    "                        test_loader=test_loader,\n",
    "                        validation_loader=validation_loader,\n",
    "                        train_idx=train_idx,\n",
    "                        validation_idx=validation_idx\n",
    "                       )\n",
    "        \n",
    "        \n",
    "        ## Here we instantiate the PyTorch model that we so nicely defined previously\n",
    "        if hidden == None:\n",
    "            model = input_model()\n",
    "        else:\n",
    "            model = input_model(hidden=hidden)\n",
    "\n",
    "        ## Here we define our loss function.  We're using CrossEntropyLoss but other options include\n",
    "        ## NLLLoss (negative log likelihood loss for when the log_softmax activation is explicitly defined\n",
    "        ## on the output layer), MSELoss for OLS Regression, KLLDivLoss for KL Divergence, BCELoss\n",
    "        ## for binary cross entropy and many others\n",
    "        criterion = nn.CrossEntropyLoss()\n",
    "\n",
    "        ## Here we define our optimizer.  In class we've been using SGD although in practice one will often\n",
    "        ## use other optimizers like Adam or RMSProp.  The primary parameter the optimizer takes is the\n",
    "        ## set of parameters in your model.  Fortunately those are easily accessible via model.paramters()\n",
    "        ## where model is the instance of the model you defined.  Other useful parameters include lr for the\n",
    "        ## learning rate and weight_decay for the rate of l2 regularization.\n",
    "        optimizer = torch.optim.SGD(model.parameters(), lr=learning_rate, weight_decay=0.01)\n",
    "        \n",
    "        \n",
    "        ## Set the rest of our parameters -- batch_size, learning_rate, epochs, optimizer,\n",
    "        ## model and criterion\n",
    "        \n",
    "        ## Add Datasets and Data Loaders to our params\n",
    "        self.set_params(optimizer=optimizer, \n",
    "                        learning_rate=learning_rate,\n",
    "                        batch_size=batch_size,\n",
    "                        model=model,\n",
    "                        criterion=criterion,\n",
    "                        epochs=epochs)   \n",
    "        \n",
    "    def load_data(self, validation_split=10000, batch_size=256):\n",
    "        \"\"\"load the MNIST training and test sets from MNIST\"\"\"\n",
    "        \n",
    "        \n",
    "        ## We start by defining our training dataset\n",
    "        ## --root-- a string pointing to the relative path of the directory where we'll store our MNIST data\n",
    "        ## --train-- tells us whether to download the training set (True) or the test set (False)\n",
    "        ## MNIST in torchvision only has train (60K) and test (10K) datasets.  Other datasets also have a validation set\n",
    "        ## --transforms-- is a torchvision.transforms object that specifies what transforms to apply to each element\n",
    "        ## in the dataset.  The required transform is transforms.ToTensor() that turns each element into a PyTorch floating\n",
    "        ## point tensor object.  You could also add others like transforms.Normalize if you wished\n",
    "        ## --download-- specifies whether to download the data from the online urls.   If set to false, then you should\n",
    "        ## provide the data locally yourself\n",
    "        train_dataset = datasets.MNIST(root='./hw3_data',\n",
    "                                    train=True,\n",
    "                                    transform=transforms.Compose([transforms.ToTensor(),\n",
    "                                      transforms.Normalize((0.1307,), (0.3081,)),\n",
    "                                     ]),\n",
    "                                    download=True)\n",
    "\n",
    "        ## similar to the above, the main difference is that we should set train=False since we want the\n",
    "\n",
    "        ## test set data\n",
    "        test_dataset = datasets.MNIST(root='./hw3_data',\n",
    "                                   train=False,\n",
    "                                   transform=transforms.Compose([transforms.ToTensor(),\n",
    "                                      transforms.Normalize((0.1307,), (0.3081,)),\n",
    "                                     ]),\n",
    "                                   download=True)\n",
    "\n",
    "        ## A DataLoader or (Dataset Loader) turns the specified data set into a sequence of data elements\n",
    "        ## that you can access in your loops for training or evaluating accuracy, etc.\n",
    "\n",
    "        ## First we need to further split our training dataset into training and validation sets.\n",
    "\n",
    "        # Define the indices\n",
    "        indices = list(range(len(train_dataset))) # start with all the indices in training set\n",
    "\n",
    "        # Define your batch_size\n",
    "        batch_size = batch_size\n",
    "\n",
    "        # Random, non-contiguous split\n",
    "        validation_idx = np.random.choice(indices, size=validation_split, replace=False)\n",
    "        train_idx = list(set(indices) - set(validation_idx))\n",
    "\n",
    "        # define our samplers -- we use a SubsetRandomSampler because it will return\n",
    "        # a random subset of the split defined by the given indices without replacement\n",
    "        train_sampler = SubsetRandomSampler(train_idx)\n",
    "        validation_sampler = SubsetRandomSampler(validation_idx)\n",
    "\n",
    "        # Create the train_loader -- use your real batch_size which you\n",
    "        # I hope have defined somewhere above\n",
    "        train_loader = torch.utils.data.DataLoader(dataset=train_dataset, \n",
    "                        batch_size=batch_size, sampler=train_sampler)\n",
    "\n",
    "        # You can use your above batch_size or just set it to 1 here.  Your validation\n",
    "        # operations shouldn't be computationally intensive or require batching.\n",
    "        validation_loader = torch.utils.data.DataLoader(dataset=train_dataset, \n",
    "                        batch_size=validation_split, sampler=validation_sampler)\n",
    "\n",
    "        test_loader = torch.utils.data.DataLoader(dataset=test_dataset,\n",
    "                                                  batch_size=len(test_dataset),\n",
    "                                                  shuffle=False)\n",
    "\n",
    "        return (train_dataset, test_dataset, \n",
    "                train_loader, test_loader, \n",
    "                validation_loader,\n",
    "                train_idx, validation_idx\n",
    "               )\n",
    "    \n",
    "    def sample_training_images(self):\n",
    "        \"\"\"Create a set of sample images from the MNIST training images\"\"\"\n",
    "        \n",
    "        training_set = self.get_params('train_dataset')\n",
    "        train_idx = self.get_params('train_idx')\n",
    "        sample_indices = np.random.choice(train_idx, 10)\n",
    "        \n",
    "        sample_images = training_set.train_data[sample_indices,:,:].numpy()\n",
    "        sample_labels = [training_set.train_labels[x] for x in sample_indices]\n",
    "        \n",
    "        self.set_params(sample_training_images=sample_images)\n",
    "        self.set_params(sample_training_labels=sample_labels)\n",
    "        \n",
    "    def save_misclassified(self, predictions, images, labels):\n",
    "        \"\"\"Create and save a set of sample images misclassified images by the model\"\"\"\n",
    "             \n",
    "        sample_indices = np.random.choice(range(len(predictions)), 10)\n",
    "        \n",
    "        sample_images = [images[x].reshape(28,28) for x in sample_indices]\n",
    "        sample_labels = [predictions[x] for x in sample_indices]\n",
    "        true_labels = [labels[x] for x in sample_indices]\n",
    "\n",
    "        ## save the random samples -- images, labels, ground_truth\n",
    "        self.set_params(misclassified_images=sample_images)\n",
    "        self.set_params(misclassified_labels=sample_labels)\n",
    "        self.set_params(misclassified_true_labels=true_labels)\n",
    "        \n",
    "        ## save all the misclassified predictions and labels\n",
    "        self.set_params(all_missed_labels=predictions)\n",
    "        self.set_params(all_missed_true_labels=labels)\n",
    "        \n",
    "        \n",
    "        \n",
    "        \n",
    "    def viz_training_images(self):\n",
    "        \"\"\"Visualize/Plot sample training images\"\"\"\n",
    "        \n",
    "        if not self.get_params('training_labels'):\n",
    "            self.sample_training_images()\n",
    "        \n",
    "        # get the images and labels\n",
    "        sample_images = self.get_params(\"sample_training_images\")\n",
    "        sample_labels = self.get_params(\"sample_training_labels\")\n",
    "        \n",
    "        fig, (ax1, ax2) = plt.subplots(2, 5, figsize=(20, 10))\n",
    "        plt.suptitle(\"Some Sample Images from MNIST\", fontsize=20, weight='heavy')\n",
    "\n",
    "        for i in range(5):\n",
    "            ax1[i].imshow(sample_images[i])\n",
    "            ax1[i].set_title(\"MNIST Label: {}\".format(sample_labels[i]))\n",
    "            ax2[i].imshow(sample_images[i+5])\n",
    "            ax2[i].set_title(\"MNIST Label: {}\".format(sample_labels[i+5]), weight='bold')\n",
    "            \n",
    "        plt.show()\n",
    "\n",
    "    def viz_misclassified_images(self):\n",
    "        \"\"\"Visualize/Plot misclassified training images\"\"\"\n",
    "\n",
    "        # get the images and labels\n",
    "        sample_images = self.get_params(\"misclassified_images\")\n",
    "        sample_labels = self.get_params(\"misclassified_labels\")\n",
    "        true_labels = self.get_params(\"misclassified_true_labels\")\n",
    "\n",
    "        if not sample_labels:\n",
    "            raise(Exception(\"Please run predict() or score() with save_misclassified=True\"))\n",
    "\n",
    "        fig, (ax1, ax2) = plt.subplots(2, 5, figsize=(20, 10))\n",
    "        plt.suptitle(\"Some Sample Misclassified Images\", fontsize=20, weight='heavy')\n",
    "\n",
    "        for i in range(5):\n",
    "            ax1[i].imshow(sample_images[i])\n",
    "            ax1[i].set_title(\"MNIST Label: {} Classified: {}\".format(true_labels[i], sample_labels[i]), weight='bold')\n",
    "            ax2[i].imshow(sample_images[i+5])\n",
    "            ax2[i].set_title(\"MNIST Label: {} Classified: {}\".format(true_labels[i+5], sample_labels[i+5]), weight='bold')\n",
    "\n",
    "        plt.show()\n",
    "        \n",
    "    \n",
    "    ## Stolen from excellent visualization from submission from Madeleine Duran/Sarah Walker\n",
    "    def viz_training_loss(self, epochs=30):\n",
    "        \"\"\"Visualize/Plot our training loss\"\"\"\n",
    "        \n",
    "        losses = self.get_params(\"training_losses\")\n",
    "        \n",
    "        if type(losses) == type(None):\n",
    "            raise(\"Please run fit() to train data\")\n",
    "        \n",
    "        fig, axes = plt.subplots(nrows=1, ncols=epochs, figsize=(20,5), sharex=True, sharey=True)\n",
    "        plt.suptitle(\"Loss Trajectory for MNIST LR Model\", fontsize=20, weight='heavy')\n",
    "        \n",
    "        for i in range(epochs):\n",
    "            axes[i].plot(range(len(losses[i])), losses[i])\n",
    "            axes[i].set_title(\"epoch {}\".format(i))\n",
    "            if i % 2 == 1:\n",
    "                axes[i].axvspan(0, len(losses[i]), facecolor='gray', alpha=0.2)\n",
    "        plt.subplots_adjust(wspace=0)\n",
    "        plt.show()\n",
    "        \n",
    "    def get_loader(self, dataset):\n",
    "        \"\"\"Retrieve dataloader, images, labels based upon dataset name\"\"\"\n",
    "        \n",
    "        if dataset == 'Test':\n",
    "            loader = self.get_params('test_loader')\n",
    "        elif dataset == 'Validation':\n",
    "            loader = self.get_params('validation_loader')\n",
    "        else:\n",
    "            loader = self.get_params('train_loader')\n",
    "            \n",
    "        # Get Loader\n",
    "        return loader\n",
    "    \n",
    "    def predict(self, dataset='Test', save_misclassified=True):\n",
    "        \"\"\"Classify images based on the fitted logistic regression model\"\"\"\n",
    "\n",
    "        loader = self.get_loader(dataset)\n",
    "        \n",
    "        predictions = []\n",
    "        all_labels = []\n",
    "        misclassified = []\n",
    "        misclassified_images = []\n",
    "        misclassified_labels = []\n",
    "        misclassified_preds = np.array([])\n",
    "        correct = 0\n",
    "        model = self.get_params('model')\n",
    "\n",
    "        for inputs, labels in loader:\n",
    "\n",
    "            ## get the inputs from the dataloader and turn into a variable for \n",
    "            ## feeding to the model\n",
    "            inputs = Variable(inputs)\n",
    "\n",
    "            ## Reshape so that batches work properly\n",
    "            inputs = inputs.view(-1, 28*28)\n",
    "\n",
    "            # run our model on the inputs\n",
    "            outputs = model(inputs)\n",
    "\n",
    "            # get the class of the max log-probability\n",
    "            pred = outputs.data.max(1)[1]\n",
    "            \n",
    "            # get the correct predictions\n",
    "            correct += (pred == labels).sum()\n",
    "\n",
    "            # save current batch of predictions\n",
    "            predictions += list(pred)\n",
    "            \n",
    "            # save all labels\n",
    "            all_labels += list(labels)\n",
    "            \n",
    "            if save_misclassified:\n",
    "                \n",
    "                # keep track of the misclassified labels, images, and prediction\n",
    "                missed = (pred != labels)\n",
    "                missed_labels = labels[missed]\n",
    "                images = inputs.data.numpy()\n",
    "                missed_images = [images[index] for index,value in enumerate(missed) if value==True]\n",
    "\n",
    "                misclassified_labels = np.append(misclassified_labels, missed_labels)\n",
    "                misclassified_images += missed_images\n",
    "                misclassified_preds = np.append(misclassified_preds, pred[missed])\n",
    "                \n",
    "                            \n",
    "            \n",
    "        self.set_params(predictions=predictions, \n",
    "                        correct_predictions=correct,\n",
    "                        prediction_dataset_length=len(predictions),\n",
    "                        all_labels=all_labels\n",
    "                       )\n",
    "        \n",
    "        # Save misclassified images/predictions/labels for visualizing later\n",
    "        if save_misclassified:\n",
    "            self.save_misclassified(misclassified_preds, misclassified_images, misclassified_labels,)\n",
    "            \n",
    "        return np.array(predictions)\n",
    "    \n",
    "    \n",
    "    def score(self, dataset='Test', print_score=True, save_misclassified=True ):\n",
    "        \"\"\"Calculate accuracy score based upon model classification\"\"\"\n",
    "        \n",
    "        self.predict(dataset=dataset, save_misclassified=save_misclassified)\n",
    "        correct = self.get_params('correct_predictions')\n",
    "        total = self.get_params('prediction_dataset_length')\n",
    "        \n",
    "        if print_score:\n",
    "            print('Dataset: {} \\nAccuracy: {}/{} ({:.1f}%)\\n'.format(\n",
    "                dataset, correct, total, 100.0 * correct / total))\n",
    "        \n",
    "        return(correct/total)\n",
    "    \n",
    "    \n",
    "    def missed_number(self, number):\n",
    "        \"\"\"Calculate accuracy for a certain true label\"\"\"\n",
    "        \n",
    "        labels = np.array(self.get_params(\"all_labels\"))\n",
    "        predictions = np.array(self.get_params(\"predictions\"))\n",
    "        missed = np.array(self.get_params(\"all_missed_true_labels\"))\n",
    "        \n",
    "        total_number = len(labels[labels == number])\n",
    "        missed_number = len(missed[missed == number])\n",
    "        \n",
    "        return(1-missed_number/total_number)\n",
    "    \n",
    "    \n",
    "    def generate_missed_percentages(self):    \n",
    "        for i in range(10):\n",
    "            print(\"Label: {} -- Accuracy: {}\".format(i, 100*self.missed_number(i)))\n",
    "               \n",
    "        \n",
    "    def fit(self, do_validation=True, show_validation=True):\n",
    "        \"\"\"Fit our logistic regression model on MNIST training set\"\"\"\n",
    "        \n",
    "        ## We defined a number of variables in our constructor -- let's reclaim them here\n",
    "        optimizer=self.get_params(\"optimizer\")\n",
    "        model=self.get_params(\"model\")\n",
    "        epochs=self.get_params(\"epochs\")\n",
    "        criterion=self.get_params(\"criterion\")\n",
    "        train_loader=self.get_params(\"train_loader\")\n",
    "        \n",
    "        ## Get the Total size of training set\n",
    "        self.get_params('train_dataset')\n",
    "        training_size = len(self.get_params('train_idx'))\n",
    "        \n",
    "        iterations = int(np.ceil(training_size/self.get_params(\"batch_size\")))\n",
    "        \n",
    "        ## We need something to keep track of our losses\n",
    "        losses = np.zeros((epochs, iterations))\n",
    "        \n",
    "        ## We need something ot keep track of our validation scores\n",
    "        validation_scores = np.zeros(epochs)\n",
    "  \n",
    "        \n",
    "        ## Our training loop.  We can loop over a fixed number of epochs or\n",
    "        ## using a sensitivity parameter (i.e. until net change in loss is\n",
    "        ## below a certain tolerance).  Here we iterate over a fixed number of\n",
    "        ## epochs\n",
    "        for epoch in range(epochs):\n",
    "\n",
    "            ## We defined our train_loader DataLoader earlier.  The train_loader is a\n",
    "            ## sequence of tuples with the first element of each tuple being\n",
    "            ## the batched training inputs (the batch_size being defined in your DataLoader)\n",
    "            ## and the second second element of each tuple being the corresponding labels\n",
    "            ## more or less all the pytorch classes are built to handle batching transparently\n",
    "\n",
    "            ## loop through the DataLoader.  Each loop is one iteration.  All the loops\n",
    "            ## form one epoch\n",
    "            for batch_index, (inputs, labels) in enumerate(train_loader):\n",
    "\n",
    "                # Convert the inputs/labels passed from the DataLoader into\n",
    "                # autograd Variables.  The dataloader provides them as PyTorch Tensors\n",
    "                # per the transforms.ToTensor() operation.\n",
    "                inputs, labels = Variable(inputs), Variable(labels)\n",
    "\n",
    "                ## as mentioned above we receive the inputs as tensors of size (batch_size,1, 28, 28)\n",
    "                ## which is effectively (batch_size, 28, 28) basically as a 3 dimensional tensor\n",
    "                ## representing a stack of (28x28) matrices with each matrix element a floating point number\n",
    "                ## representing the value of that pixel in the image.  Unfortunately our Neural Network model\n",
    "                ## can't handle that representation and needs a pixel matrices to be flattened into a row vector\n",
    "                ## of inputs.  The model takes a 2d tensor representing batch of such row vectors each row vector\n",
    "                ## representing one set of inputs corresponding to one image.  In order to accomplish this\n",
    "                ## flattening we use the .view method defined on autograd Variables.\n",
    "                inputs = inputs.view(-1, 28*28)\n",
    "\n",
    "                # we need to zero out our gradients after each pass\n",
    "                optimizer.zero_grad()\n",
    "\n",
    "\n",
    "                ## This is the optimize - forward step - backwards step part of our design pattern\n",
    "\n",
    "                # this is the forward step --> we calculate the new outputs based upon the input data from\n",
    "                # this batch and store the outputs in a variable\n",
    "                outputs = model(inputs)\n",
    "\n",
    "                # we compare the outputs to the ground truth labels in the batch to calculate the loss for this step\n",
    "                loss = criterion(outputs, labels)\n",
    "                \n",
    "                ## count the loss\n",
    "                losses[epoch,batch_index] = loss.data[0]\n",
    "\n",
    "                # we run backpropagation on the loss variable which repopulates the gradients all the way\n",
    "                # back through our model to the input layer\n",
    "                loss.backward()\n",
    "\n",
    "                # Use the gradients calculated in the backprop that took place in .backwards() to do a new\n",
    "                # gradient descent step\n",
    "                optimizer.step()\n",
    "            \n",
    "            ## After each epoch -- we should test validation accuracy\n",
    "            if do_validation:\n",
    "                if show_validation: print(\"Epoch: \", epoch)\n",
    "                validation_scores[epoch] = self.score(\"Validation\", print_score=show_validation, save_misclassified=False)\n",
    "            \n",
    "                \n",
    "        ## Set Loss Matrix for visualizing\n",
    "        self.set_params(training_losses=losses)\n",
    "        self.set_params(validation_scores=validation_scores)\n",
    "        \n",
    "        return self\n",
    "        "
   ]
  },
  {
   "cell_type": "code",
   "execution_count": 14,
   "metadata": {},
   "outputs": [
    {
     "data": {
      "image/png": "[encoded data removed]",
      "text/plain": [
       "<Figure size 1440x720 with 10 Axes>"
      ]
     },
     "metadata": {},
     "output_type": "display_data"
    }
   ],
   "source": [
    "## Define our model \n",
    "MLR = Artificial_Neural_Network(LRPyTorch)\n",
    "\n",
    "## Plot sample images\n",
    "MLR.viz_training_images()"
   ]
  },
  {
   "cell_type": "markdown",
   "metadata": {},
   "source": [
    "**1. Using classification accuracy, evaluate how well your model is performing on the validation set at the end of each epoch. Plot this validation accuracy as the model trains.**\n",
    "\n",
    "Our default parameters for our Artificial Neural Network class are set so that it models Logistic Regression with the batch_size(256), learning rate (0.1), and weight decay/regularization (0.01) as described by the question. "
   ]
  },
  {
   "cell_type": "code",
   "execution_count": 15,
   "metadata": {},
   "outputs": [
    {
     "name": "stdout",
     "output_type": "stream",
     "text": [
      "Epoch:  0\n",
      "Dataset: Validation \n",
      "Accuracy: 9031/10000 (90.3%)\n",
      "\n",
      "Epoch:  1\n",
      "Dataset: Validation \n",
      "Accuracy: 9037/10000 (90.4%)\n",
      "\n",
      "Epoch:  2\n",
      "Dataset: Validation \n",
      "Accuracy: 9045/10000 (90.5%)\n",
      "\n",
      "Epoch:  3\n",
      "Dataset: Validation \n",
      "Accuracy: 9030/10000 (90.3%)\n",
      "\n",
      "Epoch:  4\n",
      "Dataset: Validation \n",
      "Accuracy: 9071/10000 (90.7%)\n",
      "\n",
      "Epoch:  5\n",
      "Dataset: Validation \n",
      "Accuracy: 9151/10000 (91.5%)\n",
      "\n",
      "Epoch:  6\n",
      "Dataset: Validation \n",
      "Accuracy: 9076/10000 (90.8%)\n",
      "\n",
      "Epoch:  7\n",
      "Dataset: Validation \n",
      "Accuracy: 9103/10000 (91.0%)\n",
      "\n",
      "Epoch:  8\n",
      "Dataset: Validation \n",
      "Accuracy: 9162/10000 (91.6%)\n",
      "\n",
      "Epoch:  9\n",
      "Dataset: Validation \n",
      "Accuracy: 9134/10000 (91.3%)\n",
      "\n",
      "Epoch:  10\n",
      "Dataset: Validation \n",
      "Accuracy: 9147/10000 (91.5%)\n",
      "\n",
      "Epoch:  11\n",
      "Dataset: Validation \n",
      "Accuracy: 9143/10000 (91.4%)\n",
      "\n",
      "Epoch:  12\n",
      "Dataset: Validation \n",
      "Accuracy: 9090/10000 (90.9%)\n",
      "\n",
      "Epoch:  13\n",
      "Dataset: Validation \n",
      "Accuracy: 9009/10000 (90.1%)\n",
      "\n",
      "Epoch:  14\n",
      "Dataset: Validation \n",
      "Accuracy: 9113/10000 (91.1%)\n",
      "\n",
      "Epoch:  15\n",
      "Dataset: Validation \n",
      "Accuracy: 9046/10000 (90.5%)\n",
      "\n",
      "Epoch:  16\n",
      "Dataset: Validation \n",
      "Accuracy: 9047/10000 (90.5%)\n",
      "\n",
      "Epoch:  17\n",
      "Dataset: Validation \n",
      "Accuracy: 9075/10000 (90.8%)\n",
      "\n",
      "Epoch:  18\n",
      "Dataset: Validation \n",
      "Accuracy: 9116/10000 (91.2%)\n",
      "\n",
      "Epoch:  19\n",
      "Dataset: Validation \n",
      "Accuracy: 9078/10000 (90.8%)\n",
      "\n",
      "Epoch:  20\n",
      "Dataset: Validation \n",
      "Accuracy: 9123/10000 (91.2%)\n",
      "\n",
      "Epoch:  21\n",
      "Dataset: Validation \n",
      "Accuracy: 9134/10000 (91.3%)\n",
      "\n",
      "Epoch:  22\n",
      "Dataset: Validation \n",
      "Accuracy: 9170/10000 (91.7%)\n",
      "\n",
      "Epoch:  23\n",
      "Dataset: Validation \n",
      "Accuracy: 9082/10000 (90.8%)\n",
      "\n",
      "Epoch:  24\n",
      "Dataset: Validation \n",
      "Accuracy: 9122/10000 (91.2%)\n",
      "\n",
      "Epoch:  25\n",
      "Dataset: Validation \n",
      "Accuracy: 9098/10000 (91.0%)\n",
      "\n",
      "Epoch:  26\n",
      "Dataset: Validation \n",
      "Accuracy: 9090/10000 (90.9%)\n",
      "\n",
      "Epoch:  27\n",
      "Dataset: Validation \n",
      "Accuracy: 9103/10000 (91.0%)\n",
      "\n",
      "Epoch:  28\n",
      "Dataset: Validation \n",
      "Accuracy: 9157/10000 (91.6%)\n",
      "\n",
      "Epoch:  29\n",
      "Dataset: Validation \n",
      "Accuracy: 9133/10000 (91.3%)\n",
      "\n"
     ]
    },
    {
     "data": {
      "text/plain": [
       "<__main__.Artificial_Neural_Network at 0x7f3c20b4ec50>"
      ]
     },
     "execution_count": 15,
     "metadata": {},
     "output_type": "execute_result"
    }
   ],
   "source": [
    "MLR.fit()"
   ]
  },
  {
   "cell_type": "code",
   "execution_count": 16,
   "metadata": {},
   "outputs": [],
   "source": [
    "validation_scores = MLR.get_params(\"validation_scores\")"
   ]
  },
  {
   "cell_type": "code",
   "execution_count": 17,
   "metadata": {},
   "outputs": [
    {
     "data": {
      "image/png": "[encoded data removed]",
      "text/plain": [
       "<Figure size 432x288 with 1 Axes>"
      ]
     },
     "metadata": {},
     "output_type": "display_data"
    }
   ],
   "source": [
    "plt.plot(range(len(validation_scores)), validation_scores*100)\n",
    "plt.title(\"Validation Accuracy for Lambda {}\".format(0.01))\n",
    "plt.xticks(range(len(validation_scores)))\n",
    "plt.ylabel('% Accuracy')\n",
    "plt.xlabel('Epoch')\n",
    "\n",
    "plt.show()"
   ]
  },
  {
   "cell_type": "code",
   "execution_count": 18,
   "metadata": {},
   "outputs": [
    {
     "data": {
      "image/png": "[encoded data removed]",
      "text/plain": [
       "<Figure size 1440x360 with 30 Axes>"
      ]
     },
     "metadata": {},
     "output_type": "display_data"
    }
   ],
   "source": [
    "MLR.viz_training_loss()"
   ]
  },
  {
   "cell_type": "markdown",
   "metadata": {},
   "source": [
    "As we see from both our accuracy scores and the trajectory of our loss functions, after a relatively small number of epochs (1 or 2) the logistic regression stabilizes fairly quickly. While there may be some relatively minor incremental decrease in loss and/or increase in validation accuracy afterwards but the model quickly achieves what seems to be near-peak performance."
   ]
  },
  {
   "cell_type": "markdown",
   "metadata": {},
   "source": [
    "**2. Duplicate this plot for some other values of the regularization parameter $\\lambda$. When should you stop the training for different values of λ? Give an approximate answer supported by using the plots.**"
   ]
  },
  {
   "cell_type": "code",
   "execution_count": 19,
   "metadata": {},
   "outputs": [
    {
     "name": "stdout",
     "output_type": "stream",
     "text": [
      "MNIST Logistic Regression -- Lambda 0.001\n",
      "Dataset: Validation \n",
      "Accuracy: 9135/10000 (91.3%)\n",
      "\n",
      "MNIST Logistic Regression -- Lambda 0.01\n",
      "Dataset: Validation \n",
      "Accuracy: 9116/10000 (91.2%)\n",
      "\n",
      "MNIST Logistic Regression -- Lambda 0.1\n",
      "Dataset: Validation \n",
      "Accuracy: 9202/10000 (92.0%)\n",
      "\n",
      "MNIST Logistic Regression -- Lambda 0.5\n",
      "Dataset: Validation \n",
      "Accuracy: 8980/10000 (89.8%)\n",
      "\n"
     ]
    }
   ],
   "source": [
    "mlrs = []\n",
    "accuracies = []\n",
    "lambdas = [0.001, 0.01, .1, .5]\n",
    "for lambda_i in lambdas: \n",
    "    print(\"MNIST Logistic Regression -- Lambda {}\".format(lambda_i))\n",
    "    MLR = Artificial_Neural_Network(LRPyTorch,reg_rate=lambda_i)\n",
    "    MLR.fit(show_validation=False)\n",
    "    accuracies.append(MLR.get_params(\"validation_scores\"))\n",
    "    MLR.score(dataset=\"Validation\", save_misclassified=False) \n",
    "    mlrs.append(MLR)"
   ]
  },
  {
   "cell_type": "code",
   "execution_count": 22,
   "metadata": {},
   "outputs": [
    {
     "data": {
      "image/png": "[encoded data removed]",
      "text/plain": [
       "<Figure size 1440x360 with 4 Axes>"
      ]
     },
     "metadata": {},
     "output_type": "display_data"
    }
   ],
   "source": [
    "fig, axes = plt.subplots(nrows=1, ncols=4, figsize=(20,5))\n",
    "plt.suptitle(\"Validation Accuracies for Different Lambdas\", fontsize=20, weight='heavy')\n",
    "axes[0].set\n",
    "for i in range(len(accuracies)):\n",
    "    axes[i].plot(range(len(accuracies[i])), accuracies[i]*100)\n",
    "    axes[i].set_title(\"Validation Scores vs Epoch: Lambda {} \".format(lambdas[i]))\n",
    "    axes[0].set_ylabel(\"% Validation Accuracy\")\n",
    "    axes[i].set_xlabel(\"Epochs\")\n",
    "    axes[i].set_xticks(range(0, len(accuracies[i]), 2))\n",
    "    axes[i].set_yticks([86, 86.5, 87, 87.5, 88.0, 88.5, 89, 89.5, 90, 90.5, 91, 91.5, 92, 92.5])\n",
    "\n",
    "plt.show()\n",
    "\n"
   ]
  },
  {
   "cell_type": "markdown",
   "metadata": {},
   "source": [
    "We see that a regularization rate 0.1 seems to perform the highest, although there doesn't seem to be a big effect for low regularization rates.  High regularization beyond a certain threshold (e.g. 0.5) seems to make the model perform worse.\n",
    "\n",
    "**3. Select what you consider the best regularization parameter and predict the labels of the test set. Compare with the given labels. What classification accuracy do you obtain on the test set?**\n",
    "\n",
    "Given the above, let's choose lambda = 0.1 as it seems (to at least nominally) have the highest performance on the validation set.  Let's see how that translates to test set performance."
   ]
  },
  {
   "cell_type": "code",
   "execution_count": 23,
   "metadata": {},
   "outputs": [
    {
     "name": "stdout",
     "output_type": "stream",
     "text": [
      "Dataset: Test \n",
      "Accuracy: 9203/10000 (92.0%)\n",
      "\n"
     ]
    },
    {
     "data": {
      "text/plain": [
       "0.9203"
      ]
     },
     "execution_count": 23,
     "metadata": {},
     "output_type": "execute_result"
    }
   ],
   "source": [
    "mlrs[2].score(\"Test\", save_misclassified=True)\n"
   ]
  },
  {
   "cell_type": "markdown",
   "metadata": {},
   "source": [
    "So our expectations are confirmed.  The accuracy is in basically the same ~ 92% (maybe even slightly better than) as the logistic regression without regularization.  So overfitting isn't a major problem but adding a bit of regularization has had a somewhat positive albeit not significant.  Now let's look at the performance of the other models with different regularization parameters on the test set."
   ]
  },
  {
   "cell_type": "code",
   "execution_count": 24,
   "metadata": {},
   "outputs": [
    {
     "name": "stdout",
     "output_type": "stream",
     "text": [
      "Dataset: Test \n",
      "Accuracy: 9132/10000 (91.3%)\n",
      "\n",
      "Dataset: Test \n",
      "Accuracy: 9203/10000 (92.0%)\n",
      "\n",
      "Dataset: Test \n",
      "Accuracy: 9063/10000 (90.6%)\n",
      "\n"
     ]
    },
    {
     "data": {
      "text/plain": [
       "0.9063"
      ]
     },
     "execution_count": 24,
     "metadata": {},
     "output_type": "execute_result"
    }
   ],
   "source": [
    "mlrs[0].score(\"Test\", save_misclassified=True)\n",
    "mlrs[2].score(\"Test\", save_misclassified=True)\n",
    "mlrs[3].score(\"Test\", save_misclassified=True)\n"
   ]
  },
  {
   "cell_type": "markdown",
   "metadata": {},
   "source": [
    "As we conjectured, all the regularization parameters (in particular in the range we chose) are within approximately same range (91% - 92%) of accuracy on the test set.  Finally let's look at some misclassified images from our selected model."
   ]
  },
  {
   "cell_type": "code",
   "execution_count": 25,
   "metadata": {},
   "outputs": [
    {
     "data": {
      "image/png": "[encoded data removed]",
      "text/plain": [
       "<Figure size 1440x720 with 10 Axes>"
      ]
     },
     "metadata": {},
     "output_type": "display_data"
    }
   ],
   "source": [
    "mlrs[2].viz_misclassified_images()"
   ]
  },
  {
   "cell_type": "markdown",
   "metadata": {},
   "source": [
    "Looking at some misclassified images -- we see that there are a number of 3's and 9's.  A number of the misclassified examples could be considered ambiguous even to a human."
   ]
  },
  {
   "cell_type": "code",
   "execution_count": 26,
   "metadata": {},
   "outputs": [
    {
     "name": "stdout",
     "output_type": "stream",
     "text": [
      "Label: 0 -- Accuracy: 97.85714285714285\n",
      "Label: 1 -- Accuracy: 97.62114537444934\n",
      "Label: 2 -- Accuracy: 87.40310077519379\n",
      "Label: 3 -- Accuracy: 90.3960396039604\n",
      "Label: 4 -- Accuracy: 91.14052953156822\n",
      "Label: 5 -- Accuracy: 88.00448430493275\n",
      "Label: 6 -- Accuracy: 94.67640918580375\n",
      "Label: 7 -- Accuracy: 90.27237354085604\n",
      "Label: 8 -- Accuracy: 90.4517453798768\n",
      "Label: 9 -- Accuracy: 91.67492566897918\n"
     ]
    }
   ],
   "source": [
    "mlrs[2].generate_missed_percentages()"
   ]
  },
  {
   "cell_type": "markdown",
   "metadata": {},
   "source": [
    "Clearly 2's, 3's, 5's, 7's and 8's had poor accuracy compared to the other labeles -- a finding in line with our visual results."
   ]
  },
  {
   "cell_type": "markdown",
   "metadata": {},
   "source": [
    "## Question 2: MNIST MLP!  Find out what that means to me.  MNIST MLP!  Take care, TCB!"
   ]
  },
  {
   "cell_type": "markdown",
   "metadata": {},
   "source": [
    "The multilayer perceptron can be understood as a logistic regression classifier in which the input is first transformed using a learnt non-linear transformation. The non-linear transformation is often chosen to be either the logistic function or the $\\tanh$ function or the RELU function, and its purpose is to project the data into a space where it becomes linearly separable. The output of this so-called hidden layer is then passed to the logistic regression graph that we have constructed in the first problem. \n",
    "\n",
    "![](http://deeplearning.net/tutorial/_images/mlp.png)\n",
    "\n",
    "We'll construct a model with **1 hidden layer**. That is, you will have an input layer, then a hidden layer with the nonlinearity, and finally an output layer with cross-entropy loss (or equivalently log-softmax activation with a negative log likelihood loss).\n",
    "\n",
    "2.1. Using a similar architecture as in Question 1 and the same training, validation and test sets, build a PyTorch model for the multilayer perceptron. Use the $\\tanh$ function as the non-linear activation function. \n",
    "\n",
    "2.2. The initialization of the weights matrix for the hidden layer must assure that the units (neurons) of the perceptron operate in a regime where information gets propagated. For the $\\tanh$ function, you may find it advisable to initialize with the interval $\\left[-\\sqrt{\\frac{6}{fan_{in}+fan_{out}}},\\sqrt{\\frac{6}{fan_{in}+fan_{out}}}\\right]$, where $fan_{in}$ is the number of units in the $(i-1)$-th layer, and $fan_{out}$ is the number of units in the i-th layer.  This is known as **Xavier Initialization**.  Use Xavier Initialization to initialize your MLP.  Feel free to use PyTorch's in-built Xavier Initialization methods.\n",
    "\n",
    "2.3. Using $\\lambda = 0.01$ to compare with Question 1, experiment with the learning rate (try 0.1 and 0.01 for example), batch size (use 64, 128 and 256) and the number of units in your hidden layer (use between 25 and 200 units). For what combination of these parameters do you obtain the highest validation accuracy?  You may want to start with 20 epochs for running time and experiment a bit to make sure that your models reach convergence. \n",
    "\n",
    "2.4. For your best combination plot the cross-entropy loss on the training set as a function of iteration.\n",
    "\n",
    "2.5. For your best combination use classification accuracy to evaluate how well your model is performing on the validation set at the end of each epoch. Plot this validation accuracy as the model trains.\n",
    "\n",
    "2.6. Select what you consider the best set of parameters and predict the labels of the test set. Compare your predictions with the given labels. What classification accuracy do you obtain on the training and test sets?\n",
    "\n",
    "2.7. How does your test accuracy compare to that of the logistic regression classifier in Question 1?  Compare best parameters for both models.\n",
    "\n",
    "2.8. What classes are most likely to be misclassified? Plot some misclassified training and test set images.\n",
    "\n",
    "\n",
    "**Gratuitous Titular Reference**:  Respect, originally performed by Otis Redding, became a huge hit and an anthem for the recently departed \"Queen of Soul\" Aretha Franklin.  Respect is often credited with popularizing the word usages \"propers\" (a synonym for respect) and \"sock it to me\"."
   ]
  },
  {
   "cell_type": "markdown",
   "metadata": {},
   "source": [
    "<div class=\"answer-separator\">\n",
    "------------------------\n",
    "</div>"
   ]
  },
  {
   "cell_type": "code",
   "execution_count": 27,
   "metadata": {},
   "outputs": [],
   "source": [
    "## Our PyTorch implementation of MLP\n",
    "class MLP(nn.Module):\n",
    "\n",
    "    ## the constructor is where we'll define all our layers (input, hidden, and output)\n",
    "    def __init__(self, hidden=50):\n",
    "\n",
    "        ## this line creates an instance of our parent (or base) class which in this case\n",
    "        ## is nn.Module.\n",
    "        super().__init__()\n",
    "\n",
    "        ## in the lines below we'll create instance variables and assign them torch.nn Models\n",
    "        ## in order to create our layers.  You should ordinarily have one variable definition for each layer\n",
    "        ## in your neural network except for the output layer.  The output layer is defined by the number of\n",
    "        ## outputs in your last layer. Since we're dealing with simple Artificial Neural Networks, we should\n",
    "        ## predominantly be using nn.Linear.  \n",
    "        \n",
    "        ## definee layer1\n",
    "        self.l1 = nn.Linear(784, hidden)\n",
    "        \n",
    "        \n",
    "        # initialize layer1\n",
    "        torch.nn.init.xavier_uniform(self.l1.weight)\n",
    "        torch.nn.init.constant(self.l1.bias, 0.0)\n",
    "        \n",
    "        # define layer2\n",
    "        self.l2 = nn.Linear(hidden,10)\n",
    "\n",
    " \n",
    "    # forwards takes as a parameter x -- the batch of inputs that we want to feed into our neural network model\n",
    "    # and returns the output of the model ... i.e. the results of the output layer of the model after forward\n",
    "    # propagation through our model. practically this means you should call each layer you defined in the\n",
    "    # constructor in sequence plus any activation functions on each layer.\n",
    "    def forward(self, x):\n",
    "     \n",
    "        # call all our layers on our input (in this case we only need one)\n",
    "        x = self.l1(x)\n",
    "        x = F.tanh(x)\n",
    "        x = self.l2(x)\n",
    "\n",
    "        # Since we're using Cross Entropy Loss\n",
    "        # we can return our output directly\n",
    "        return x\n"
   ]
  },
  {
   "cell_type": "markdown",
   "metadata": {},
   "source": [
    "**Ok -- that wasn't too bad. We've defined our new MLP with one hidden layer and even included initialization.  In order to compare most closely with the parameters used in Problem 2 (with the exception of the ones specified in the problem), let's start with batch_size = 200, regularization parameter = 0.001 and learning rate = 0.1.  Let's check how the size of the hidden layers affects performance.**"
   ]
  },
  {
   "cell_type": "code",
   "execution_count": 36,
   "metadata": {
    "scrolled": true
   },
   "outputs": [
    {
     "name": "stdout",
     "output_type": "stream",
     "text": [
      "MNIST MLP -- Hidden 25\n",
      "Dataset: Validation \n",
      "Accuracy: 9411/10000 (94.1%)\n",
      "\n",
      "MNIST MLP -- Hidden 50\n",
      "Dataset: Validation \n",
      "Accuracy: 9446/10000 (94.5%)\n",
      "\n",
      "MNIST MLP -- Hidden 75\n",
      "Dataset: Validation \n",
      "Accuracy: 9523/10000 (95.2%)\n",
      "\n",
      "MNIST MLP -- Hidden 100\n",
      "Dataset: Validation \n",
      "Accuracy: 9544/10000 (95.4%)\n",
      "\n"
     ]
    }
   ],
   "source": [
    "\n",
    "mlps = []\n",
    "accuracies = []\n",
    "hiddens = [25, 50, 75, 100]\n",
    "for hidden_i in hiddens: \n",
    "    print(\"MNIST MLP -- Hidden {}\".format(hidden_i))\n",
    "    mnist_MLP= Artificial_Neural_Network(MLP,reg_rate=0.001,learning_rate=0.1,batch_size=200, hidden=hidden_i)\n",
    "    mnist_MLP.fit(show_validation=False)\n",
    "    accuracies.append(mnist_MLP.get_params(\"validation_scores\"))\n",
    "    mnist_MLP.score(dataset=\"Validation\", save_misclassified=False) \n",
    "    mlps.append(mnist_MLP)"
   ]
  },
  {
   "cell_type": "markdown",
   "metadata": {},
   "source": [
    "**As you might expect increasing the size of the hidden layers increases the accuracy of the networks.  Some overfitting may ensue, although as we have regularization turned on it may be somewhat muted.  We'll play with the regularization parameter later.  Does batch_size have any effect on accuracy?**"
   ]
  },
  {
   "cell_type": "code",
   "execution_count": 37,
   "metadata": {},
   "outputs": [
    {
     "name": "stdout",
     "output_type": "stream",
     "text": [
      "MNIST MLP -- Batch Size 50\n",
      "Dataset: Validation \n",
      "Accuracy: 9479/10000 (94.8%)\n",
      "\n",
      "MNIST MLP -- Batch Size 100\n",
      "Dataset: Validation \n",
      "Accuracy: 9521/10000 (95.2%)\n",
      "\n",
      "MNIST MLP -- Batch Size 200\n",
      "Dataset: Validation \n",
      "Accuracy: 9555/10000 (95.5%)\n",
      "\n"
     ]
    }
   ],
   "source": [
    "mlps = []\n",
    "accuracies = []\n",
    "batches = [50, 100, 200]\n",
    "for batch in batches: \n",
    "    print(\"MNIST MLP -- Batch Size {}\".format(batch))\n",
    "    mnist_MLP= Artificial_Neural_Network(MLP,reg_rate=0.001,learning_rate=0.1,batch_size=batch, hidden=100)\n",
    "    mnist_MLP.fit(show_validation=False)\n",
    "    accuracies.append(mnist_MLP.get_params(\"validation_scores\"))\n",
    "    mnist_MLP.score(dataset=\"Validation\", save_misclassified=False) \n",
    "    mlps.append(MLR)"
   ]
  },
  {
   "cell_type": "markdown",
   "metadata": {},
   "source": [
    "**It doesn't seem like it has a great effect.  Let's choose the (marginally) best performing batch size of 100 and try to find the optimal learning rate.**"
   ]
  },
  {
   "cell_type": "code",
   "execution_count": 38,
   "metadata": {},
   "outputs": [
    {
     "name": "stdout",
     "output_type": "stream",
     "text": [
      "MNIST MLP -- Learning Rate 0.001\n",
      "Dataset: Validation \n",
      "Accuracy: 9068/10000 (90.7%)\n",
      "\n",
      "MNIST MLP -- Learning Rate 0.01\n",
      "Dataset: Validation \n",
      "Accuracy: 9477/10000 (94.8%)\n",
      "\n",
      "MNIST MLP -- Learning Rate 0.1\n",
      "Dataset: Validation \n",
      "Accuracy: 9535/10000 (95.3%)\n",
      "\n",
      "MNIST MLP -- Learning Rate 0.5\n",
      "Dataset: Validation \n",
      "Accuracy: 9370/10000 (93.7%)\n",
      "\n",
      "MNIST MLP -- Learning Rate 1\n",
      "Dataset: Validation \n",
      "Accuracy: 8963/10000 (89.6%)\n",
      "\n"
     ]
    }
   ],
   "source": [
    "mlps = []\n",
    "accuracies = []\n",
    "lrs = [0.001, 0.01, 0.1, 0.5, 1]\n",
    "for lr in lrs: \n",
    "    print(\"MNIST MLP -- Learning Rate {}\".format(lr))\n",
    "    mnist_MLP= Artificial_Neural_Network(MLP,reg_rate=0.001,learning_rate=lr,batch_size=100, hidden=100)\n",
    "    mnist_MLP.fit(show_validation=False)\n",
    "    accuracies.append(mnist_MLP.get_params(\"validation_scores\"))\n",
    "    mnist_MLP.score(dataset=\"Validation\", save_misclassified=False) \n",
    "    mlps.append(mnist_MLP)"
   ]
  },
  {
   "cell_type": "markdown",
   "metadata": {},
   "source": [
    "**It looks like a learning rate of 0.1 is pretty clearly optimal.  As noted earlier, batch size has less effect, but let's use a size of 100 anyway**"
   ]
  },
  {
   "cell_type": "code",
   "execution_count": 40,
   "metadata": {},
   "outputs": [
    {
     "name": "stdout",
     "output_type": "stream",
     "text": [
      "Epoch:  0\n",
      "Dataset: Validation \n",
      "Accuracy: 9278/10000 (92.8%)\n",
      "\n",
      "Epoch:  1\n",
      "Dataset: Validation \n",
      "Accuracy: 9403/10000 (94.0%)\n",
      "\n",
      "Epoch:  2\n",
      "Dataset: Validation \n",
      "Accuracy: 9429/10000 (94.3%)\n",
      "\n",
      "Epoch:  3\n",
      "Dataset: Validation \n",
      "Accuracy: 9462/10000 (94.6%)\n",
      "\n",
      "Epoch:  4\n",
      "Dataset: Validation \n",
      "Accuracy: 9485/10000 (94.8%)\n",
      "\n",
      "Epoch:  5\n",
      "Dataset: Validation \n",
      "Accuracy: 9461/10000 (94.6%)\n",
      "\n",
      "Epoch:  6\n",
      "Dataset: Validation \n",
      "Accuracy: 9467/10000 (94.7%)\n",
      "\n",
      "Epoch:  7\n",
      "Dataset: Validation \n",
      "Accuracy: 9491/10000 (94.9%)\n",
      "\n",
      "Epoch:  8\n",
      "Dataset: Validation \n",
      "Accuracy: 9475/10000 (94.8%)\n",
      "\n",
      "Epoch:  9\n",
      "Dataset: Validation \n",
      "Accuracy: 9501/10000 (95.0%)\n",
      "\n",
      "Epoch:  10\n",
      "Dataset: Validation \n",
      "Accuracy: 9500/10000 (95.0%)\n",
      "\n",
      "Epoch:  11\n",
      "Dataset: Validation \n",
      "Accuracy: 9494/10000 (94.9%)\n",
      "\n",
      "Epoch:  12\n",
      "Dataset: Validation \n",
      "Accuracy: 9490/10000 (94.9%)\n",
      "\n",
      "Epoch:  13\n",
      "Dataset: Validation \n",
      "Accuracy: 9505/10000 (95.0%)\n",
      "\n",
      "Epoch:  14\n",
      "Dataset: Validation \n",
      "Accuracy: 9497/10000 (95.0%)\n",
      "\n",
      "Epoch:  15\n",
      "Dataset: Validation \n",
      "Accuracy: 9479/10000 (94.8%)\n",
      "\n",
      "Epoch:  16\n",
      "Dataset: Validation \n",
      "Accuracy: 9505/10000 (95.0%)\n",
      "\n",
      "Epoch:  17\n",
      "Dataset: Validation \n",
      "Accuracy: 9516/10000 (95.2%)\n",
      "\n",
      "Epoch:  18\n",
      "Dataset: Validation \n",
      "Accuracy: 9521/10000 (95.2%)\n",
      "\n",
      "Epoch:  19\n",
      "Dataset: Validation \n",
      "Accuracy: 9505/10000 (95.0%)\n",
      "\n",
      "Epoch:  20\n",
      "Dataset: Validation \n",
      "Accuracy: 9521/10000 (95.2%)\n",
      "\n",
      "Epoch:  21\n",
      "Dataset: Validation \n",
      "Accuracy: 9510/10000 (95.1%)\n",
      "\n",
      "Epoch:  22\n",
      "Dataset: Validation \n",
      "Accuracy: 9513/10000 (95.1%)\n",
      "\n",
      "Epoch:  23\n",
      "Dataset: Validation \n",
      "Accuracy: 9511/10000 (95.1%)\n",
      "\n",
      "Epoch:  24\n",
      "Dataset: Validation \n",
      "Accuracy: 9503/10000 (95.0%)\n",
      "\n",
      "Epoch:  25\n",
      "Dataset: Validation \n",
      "Accuracy: 9497/10000 (95.0%)\n",
      "\n",
      "Epoch:  26\n",
      "Dataset: Validation \n",
      "Accuracy: 9505/10000 (95.0%)\n",
      "\n",
      "Epoch:  27\n",
      "Dataset: Validation \n",
      "Accuracy: 9518/10000 (95.2%)\n",
      "\n",
      "Epoch:  28\n",
      "Dataset: Validation \n",
      "Accuracy: 9529/10000 (95.3%)\n",
      "\n",
      "Epoch:  29\n",
      "Dataset: Validation \n",
      "Accuracy: 9524/10000 (95.2%)\n",
      "\n"
     ]
    },
    {
     "data": {
      "text/plain": [
       "<__main__.Artificial_Neural_Network at 0x7f3c1d946438>"
      ]
     },
     "execution_count": 40,
     "metadata": {},
     "output_type": "execute_result"
    }
   ],
   "source": [
    "mnist_MLP= Artificial_Neural_Network(MLP,reg_rate=0.001,learning_rate=0.1,batch_size=100, hidden=100)\n",
    "mnist_MLP.fit()"
   ]
  },
  {
   "cell_type": "code",
   "execution_count": 41,
   "metadata": {},
   "outputs": [
    {
     "name": "stdout",
     "output_type": "stream",
     "text": [
      "Dataset: Test \n",
      "Accuracy: 9570/10000 (95.7%)\n",
      "\n"
     ]
    },
    {
     "data": {
      "text/plain": [
       "0.957"
      ]
     },
     "execution_count": 41,
     "metadata": {},
     "output_type": "execute_result"
    }
   ],
   "source": [
    "mnist_MLP.score(dataset = \"Test\")"
   ]
  },
  {
   "cell_type": "markdown",
   "metadata": {},
   "source": [
    "**Great.  Test set accuracy of ~96%.  Let's try some different regularization rates.**"
   ]
  },
  {
   "cell_type": "code",
   "execution_count": 43,
   "metadata": {},
   "outputs": [
    {
     "name": "stdout",
     "output_type": "stream",
     "text": [
      "MNIST MLP -- Lambda 0.001\n",
      "Dataset: Validation \n",
      "Accuracy: 9501/10000 (95.0%)\n",
      "\n",
      "MNIST MLP -- Lambda 0.01\n",
      "Dataset: Validation \n",
      "Accuracy: 9480/10000 (94.8%)\n",
      "\n",
      "MNIST MLP -- Lambda 0.1\n",
      "Dataset: Validation \n",
      "Accuracy: 9532/10000 (95.3%)\n",
      "\n",
      "MNIST MLP -- Lambda 0.5\n",
      "Dataset: Validation \n",
      "Accuracy: 9513/10000 (95.1%)\n",
      "\n"
     ]
    }
   ],
   "source": [
    "mlps = []\n",
    "accuracies = []\n",
    "lambdas = [0.001, 0.01, .1, .5]\n",
    "for lambda_i in lambdas: \n",
    "    print(\"MNIST MLP -- Lambda {}\".format(lambda_i))\n",
    "    mnist_MLP= Artificial_Neural_Network(MLP,reg_rate=lambda_i,learning_rate=0.1,batch_size=100, hidden=100)\n",
    "    mnist_MLP.fit(show_validation=False)\n",
    "    accuracies.append(mnist_MLP.get_params(\"validation_scores\"))\n",
    "    mnist_MLP.score(dataset=\"Validation\", save_misclassified=True) \n",
    "    mlps.append(mnist_MLP)"
   ]
  },
  {
   "cell_type": "markdown",
   "metadata": {},
   "source": [
    "**Regularization doesn't seem to have as great an effect on validation set accuracy as you might expect giving that wide MLP's are prone to overfitting.  It looks like we selected a good hidden layer width.  It looks like 0.1 is our best regularization rate, but let's look at test set accuracy for all the candidates.**"
   ]
  },
  {
   "cell_type": "code",
   "execution_count": 44,
   "metadata": {},
   "outputs": [
    {
     "name": "stdout",
     "output_type": "stream",
     "text": [
      "Dataset: Test \n",
      "Accuracy: 9558/10000 (95.6%)\n",
      "\n",
      "Dataset: Test \n",
      "Accuracy: 9539/10000 (95.4%)\n",
      "\n",
      "Dataset: Test \n",
      "Accuracy: 9570/10000 (95.7%)\n",
      "\n",
      "Dataset: Test \n",
      "Accuracy: 9558/10000 (95.6%)\n",
      "\n"
     ]
    }
   ],
   "source": [
    "for mlp in mlps:\n",
    "    mlp.score(dataset=\"Test\")"
   ]
  },
  {
   "cell_type": "markdown",
   "metadata": {},
   "source": [
    "It looks like test set accuracies are all in the same range.  95-96% is a good result for a single hidden layer MLP.  If we'd implemented an MLP with 2 hidden layers we might see a result in the 96-97% range.  Convolutional DNN's can get accuracies of 99% and above."
   ]
  },
  {
   "cell_type": "markdown",
   "metadata": {},
   "source": [
    "What about classification accuracies?"
   ]
  },
  {
   "cell_type": "code",
   "execution_count": 46,
   "metadata": {},
   "outputs": [
    {
     "name": "stdout",
     "output_type": "stream",
     "text": [
      "Label: 0 -- Accuracy: 98.57142857142858\n",
      "Label: 1 -- Accuracy: 98.32599118942731\n",
      "Label: 2 -- Accuracy: 94.67054263565892\n",
      "Label: 3 -- Accuracy: 96.53465346534654\n",
      "Label: 4 -- Accuracy: 94.39918533604887\n",
      "Label: 5 -- Accuracy: 92.04035874439462\n",
      "Label: 6 -- Accuracy: 96.76409185803759\n",
      "Label: 7 -- Accuracy: 93.09338521400778\n",
      "Label: 8 -- Accuracy: 93.01848049281314\n",
      "Label: 9 -- Accuracy: 95.8374628344896\n"
     ]
    }
   ],
   "source": [
    "mlps[1].generate_missed_percentages()"
   ]
  },
  {
   "cell_type": "code",
   "execution_count": 87,
   "metadata": {},
   "outputs": [
    {
     "data": {
      "image/png": "[encoded data removed]",
      "text/plain": [
       "<Figure size 1440x720 with 10 Axes>"
      ]
     },
     "metadata": {},
     "output_type": "display_data"
    }
   ],
   "source": [
    "mlps[1].viz_misclassified_images()"
   ]
  },
  {
   "cell_type": "markdown",
   "metadata": {},
   "source": [
    "**While classification accuracies seem to be higher (and less uneven) than for the logistic regression model, we see that the 2, 4, 7 and 8 labels do a bit worse than other labels in terms of accuracy rates.  Unsurprisingly in our random sample of misclassified images we see a number of 2's.**"
   ]
  }
 ],
 "metadata": {
  "anaconda-cloud": {},
  "kernelspec": {
   "display_name": "Python 3",
   "language": "python",
   "name": "python3"
  },
  "language_info": {
   "codemirror_mode": {
    "name": "ipython",
    "version": 3
   },
   "file_extension": ".py",
   "mimetype": "text/x-python",
   "name": "python",
   "nbconvert_exporter": "python",
   "pygments_lexer": "ipython3",
   "version": "3.6.5rc1"
  }
 },
 "nbformat": 4,
 "nbformat_minor": 2
}
